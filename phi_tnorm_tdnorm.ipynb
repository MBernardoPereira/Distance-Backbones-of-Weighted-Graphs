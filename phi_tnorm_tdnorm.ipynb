{
 "cells": [
  {
   "cell_type": "code",
   "execution_count": 1,
   "metadata": {},
   "outputs": [],
   "source": [
    "import sympy as sp\n",
    "from sympy.abc import x, y, k\n",
    "from IPython.display import display, Math"
   ]
  },
  {
   "cell_type": "code",
   "execution_count": 2,
   "metadata": {},
   "outputs": [],
   "source": [
    "# Define the symbols and constants\n",
    "x, y, k = sp.symbols('x y k')"
   ]
  },
  {
   "cell_type": "code",
   "execution_count": 3,
   "metadata": {},
   "outputs": [],
   "source": [
    "def get_inverse(expr):\n",
    "    solution = sp.solve(expr - y, x)[-1]\n",
    "    sub_solution = solution.subs(y,x)\n",
    "    return sub_solution"
   ]
  },
  {
   "cell_type": "code",
   "execution_count": 5,
   "metadata": {},
   "outputs": [],
   "source": [
    "#EXPERIMENTAL PHIS\n",
    "phi_E = (1/x)**k\n",
    "phi_B = (1/x - x)**k\n",
    "phi_C = -sp.log((1-(1-x)**k)**(1/k))\n",
    "\n",
    "#Define the Standard functions phi and phi^(-1) for the computation of g\n",
    "phi_st = (1/x - 1)\n",
    "phi_st_inv = get_inverse(phi_st)\n",
    "\n",
    "phi_D = (1/x - 1)**k\n",
    "\n",
    "phi_AA = (-sp.log(x))**k\n",
    "\n",
    "phi_F = (-sp.log( (k**x - 1)/(k-1) ))\n",
    "\n",
    "phi_H = (-sp.log( x/(k + (1-k)*x)))\n",
    "\n",
    "phi_SS4 = (1/(x**k) - 1)"
   ]
  },
  {
   "cell_type": "code",
   "execution_count": 6,
   "metadata": {},
   "outputs": [
    {
     "name": "stdout",
     "output_type": "stream",
     "text": [
      "$\\varphi(x)=- \\log{\\left(\\left(1 - \\left(1 - x\\right)^{\\lambda}\\right)^{\\frac{1}{\\lambda}} \\right)}$\n"
     ]
    },
    {
     "data": {
      "text/latex": [
       "$\\displaystyle \\varphi(x)=- \\log{\\left(\\left(1 - \\left(1 - x\\right)^{\\lambda}\\right)^{\\frac{1}{\\lambda}} \\right)}$"
      ],
      "text/plain": [
       "<IPython.core.display.Math object>"
      ]
     },
     "metadata": {},
     "output_type": "display_data"
    },
    {
     "name": "stdout",
     "output_type": "stream",
     "text": [
      "$\\varphi^{-1}(x)=1 - \\left(1 - \\left(e^{- x}\\right)^{\\lambda}\\right)^{\\frac{1}{\\lambda}}$\n"
     ]
    },
    {
     "data": {
      "text/latex": [
       "$\\displaystyle \\varphi^{-1}(x)=1 - \\left(1 - \\left(e^{- x}\\right)^{\\lambda}\\right)^{\\frac{1}{\\lambda}}$"
      ],
      "text/plain": [
       "<IPython.core.display.Math object>"
      ]
     },
     "metadata": {},
     "output_type": "display_data"
    },
    {
     "name": "stdout",
     "output_type": "stream",
     "text": [
      "$\\wedge(x,y)=1 - \\left(1 - \\left(\\left(1 - \\left(1 - x\\right)^{\\lambda}\\right)^{\\frac{1}{\\lambda}} \\left(1 - \\left(1 - y\\right)^{\\lambda}\\right)^{\\frac{1}{\\lambda}}\\right)^{\\lambda}\\right)^{\\frac{1}{\\lambda}}$\n"
     ]
    },
    {
     "data": {
      "text/latex": [
       "$\\displaystyle \\wedge(x,y)=1 - \\left(1 - \\left(\\left(1 - \\left(1 - x\\right)^{\\lambda}\\right)^{\\frac{1}{\\lambda}} \\left(1 - \\left(1 - y\\right)^{\\lambda}\\right)^{\\frac{1}{\\lambda}}\\right)^{\\lambda}\\right)^{\\frac{1}{\\lambda}}$"
      ],
      "text/plain": [
       "<IPython.core.display.Math object>"
      ]
     },
     "metadata": {},
     "output_type": "display_data"
    },
    {
     "name": "stdout",
     "output_type": "stream",
     "text": [
      "$g(x,y)=- \\frac{\\left(1 - \\left(\\left(1 - \\left(\\frac{x}{x + 1}\\right)^{\\lambda}\\right)^{\\frac{1}{\\lambda}} \\left(1 - \\left(\\frac{y}{y + 1}\\right)^{\\lambda}\\right)^{\\frac{1}{\\lambda}}\\right)^{\\lambda}\\right)^{\\frac{1}{\\lambda}}}{\\left(1 - \\left(\\left(1 - \\left(\\frac{x}{x + 1}\\right)^{\\lambda}\\right)^{\\frac{1}{\\lambda}} \\left(1 - \\left(\\frac{y}{y + 1}\\right)^{\\lambda}\\right)^{\\frac{1}{\\lambda}}\\right)^{\\lambda}\\right)^{\\frac{1}{\\lambda}} - 1}$\n"
     ]
    },
    {
     "data": {
      "text/latex": [
       "$\\displaystyle g(x,y)=- \\frac{\\left(1 - \\left(\\left(1 - \\left(\\frac{x}{x + 1}\\right)^{\\lambda}\\right)^{\\frac{1}{\\lambda}} \\left(1 - \\left(\\frac{y}{y + 1}\\right)^{\\lambda}\\right)^{\\frac{1}{\\lambda}}\\right)^{\\lambda}\\right)^{\\frac{1}{\\lambda}}}{\\left(1 - \\left(\\left(1 - \\left(\\frac{x}{x + 1}\\right)^{\\lambda}\\right)^{\\frac{1}{\\lambda}} \\left(1 - \\left(\\frac{y}{y + 1}\\right)^{\\lambda}\\right)^{\\frac{1}{\\lambda}}\\right)^{\\lambda}\\right)^{\\frac{1}{\\lambda}} - 1}$"
      ],
      "text/plain": [
       "<IPython.core.display.Math object>"
      ]
     },
     "metadata": {},
     "output_type": "display_data"
    }
   ],
   "source": [
    "# Define the function p(x)\n",
    "phi = phi_C\n",
    "\n",
    "# Define the function I(x)\n",
    "phi_inv = get_inverse(phi)\n",
    "\n",
    "#Convert to LaTeX\n",
    "phi_latex = r'$\\varphi(x)='+sp.latex(phi)+'$'\n",
    "phi_latex = phi_latex.replace('k', '\\lambda')\n",
    "\n",
    "#Print LaTeX Code\n",
    "print(phi_latex)\n",
    "\n",
    "# Display the simplified result in LaTeX format\n",
    "display(Math(phi_latex))\n",
    "\n",
    "#Convert to LaTeX\n",
    "phi_inv_latex = r'$\\varphi^{-1}(x)='+sp.latex(phi_inv)+'$'\n",
    "phi_inv_latex = phi_inv_latex.replace('k', '\\lambda')\n",
    "\n",
    "#Print LaTeX Code\n",
    "print(phi_inv_latex)\n",
    "\n",
    "# Display the simplified result in LaTeX format\n",
    "display(Math(phi_inv_latex))\n",
    "\n",
    "# Calculate I(p(x) + p(y))\n",
    "tnorm = phi_inv.subs(x, phi.subs(x,x) + phi.subs(x,y))\n",
    "\n",
    "# Simplify the result\n",
    "simplified_tnorm = sp.simplify(tnorm)\n",
    "\n",
    "#Convert to LaTeX\n",
    "tnorm_latex = r'$\\wedge(x,y)='+sp.latex(simplified_tnorm)+'$'\n",
    "tnorm_latex = tnorm_latex.replace('k', '\\lambda')\n",
    "\n",
    "#Print LaTeX Code\n",
    "print(tnorm_latex)\n",
    "\n",
    "# Display the simplified result in LaTeX format\n",
    "display(Math(tnorm_latex))\n",
    "\n",
    "# Calculate phi o \\wedge o phi^(-1)\n",
    "tdnorm = phi_st.subs(x, tnorm.subs([(x, phi_st_inv), (y, phi_st_inv.subs(x,y))]))\n",
    "\n",
    "# Simplify the result\n",
    "simplified_tdnorm = sp.simplify(tdnorm)\n",
    "\n",
    "#Convert to LaTeX\n",
    "tdnorm_latex = r'$g(x,y)='+sp.latex(simplified_tdnorm)+'$'\n",
    "tdnorm_latex = tdnorm_latex.replace('k', '\\lambda')\n",
    "\n",
    "#Print LaTeX Code\n",
    "print(tdnorm_latex)\n",
    "\n",
    "# Display the simplified result in LaTeX format\n",
    "display(Math(tdnorm_latex))"
   ]
  },
  {
   "cell_type": "code",
   "execution_count": null,
   "metadata": {},
   "outputs": [],
   "source": []
  }
 ],
 "metadata": {
  "kernelspec": {
   "display_name": "main_env",
   "language": "python",
   "name": "python3"
  },
  "language_info": {
   "codemirror_mode": {
    "name": "ipython",
    "version": 3
   },
   "file_extension": ".py",
   "mimetype": "text/x-python",
   "name": "python",
   "nbconvert_exporter": "python",
   "pygments_lexer": "ipython3",
   "version": "3.9.16"
  },
  "orig_nbformat": 4
 },
 "nbformat": 4,
 "nbformat_minor": 2
}
